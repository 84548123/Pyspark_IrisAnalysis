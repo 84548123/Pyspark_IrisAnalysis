{
  "nbformat": 4,
  "nbformat_minor": 0,
  "metadata": {
    "colab": {
      "provenance": []
    },
    "kernelspec": {
      "name": "python3",
      "display_name": "Python 3"
    },
    "language_info": {
      "name": "python"
    }
  },
  "cells": [
    {
      "cell_type": "markdown",
      "source": [
        "# Program 3: Iris Dataset Analysis\n",
        "\n",
        "## This program demonstrates making use of SparkSession instead of the conf and spark context and then we load the iris dataset and create a Dataframe using spark instead of RDD and use filter\n",
        "\n",
        "# Aryan Shetty\n",
        "# 23MBD029"
      ],
      "metadata": {
        "id": "DHgaNUnkxGfP"
      }
    },
    {
      "cell_type": "code",
      "execution_count": 1,
      "metadata": {
        "colab": {
          "base_uri": "https://localhost:8080/",
          "height": 0
        },
        "id": "K-RfZ9LVr8cn",
        "outputId": "b13feb9e-fe56-4aae-eaf5-44ca0aacb00c"
      },
      "outputs": [
        {
          "output_type": "stream",
          "name": "stdout",
          "text": [
            "Collecting pySpark\n",
            "  Downloading pyspark-3.5.2.tar.gz (317.3 MB)\n",
            "\u001b[2K     \u001b[90m━━━━━━━━━━━━━━━━━━━━━━━━━━━━━━━━━━━━━━━━\u001b[0m \u001b[32m317.3/317.3 MB\u001b[0m \u001b[31m3.8 MB/s\u001b[0m eta \u001b[36m0:00:00\u001b[0m\n",
            "\u001b[?25h  Preparing metadata (setup.py) ... \u001b[?25l\u001b[?25hdone\n",
            "Requirement already satisfied: py4j==0.10.9.7 in /usr/local/lib/python3.10/dist-packages (from pySpark) (0.10.9.7)\n",
            "Building wheels for collected packages: pySpark\n",
            "  Building wheel for pySpark (setup.py) ... \u001b[?25l\u001b[?25hdone\n",
            "  Created wheel for pySpark: filename=pyspark-3.5.2-py2.py3-none-any.whl size=317812363 sha256=4ef16db0a46f5660a372aa1b421a525face2c1a1b63b533cf7e8ad019f7b319c\n",
            "  Stored in directory: /root/.cache/pip/wheels/34/34/bd/03944534c44b677cd5859f248090daa9fb27b3c8f8e5f49574\n",
            "Successfully built pySpark\n",
            "Installing collected packages: pySpark\n",
            "Successfully installed pySpark-3.5.2\n"
          ]
        }
      ],
      "source": [
        "pip install pySpark"
      ]
    },
    {
      "cell_type": "code",
      "source": [
        "from pyspark.sql import SparkSession\n",
        "from pyspark.sql.functions import col"
      ],
      "metadata": {
        "id": "7dL2XWDosRvf"
      },
      "execution_count": 2,
      "outputs": []
    },
    {
      "cell_type": "code",
      "source": [
        "#Initializing Spark Session\n",
        "spark_aryan=SparkSession.builder.appName('IrisDatasetExample').getOrCreate()"
      ],
      "metadata": {
        "id": "qJB919HLsd-F"
      },
      "execution_count": 3,
      "outputs": []
    },
    {
      "cell_type": "code",
      "source": [
        "# Load the iris dataset\n",
        "iris_data = [\n",
        "    (5.1, 3.5, 1.4, 0.2, \"Iris-setosa\"),\n",
        "    (4.9, 3.0, 1.4, 0.2, \"Iris-setosa\"),\n",
        "    (4.7, 3.2, 1.3, 0.2, \"Iris-setosa\"),\n",
        "    (7.0, 3.2, 4.7, 1.4, \"Iris-versicolor\"),\n",
        "    (6.4, 3.2, 4.5, 1.5, \"Iris-versicolor\"),\n",
        "    (6.9, 3.1, 4.9, 1.5, \"Iris-versicolor\"),\n",
        "    (5.9, 3.0, 5.1, 1.8, \"Iris-virginica\"),\n",
        "    (6.8, 3.0, 5.5, 2.1, \"Iris-virginica\"),\n",
        "    (6.7, 3.1, 5.6, 2.4, \"Iris-virginica\")\n",
        "]\n",
        "\n",
        "columns = [\"sepal_length\", \"sepal_width\", \"petal_length\", \"petal_width\", \"species\"]\n"
      ],
      "metadata": {
        "id": "U2IkznyMtOIX"
      },
      "execution_count": 4,
      "outputs": []
    },
    {
      "cell_type": "code",
      "source": [
        "#creating a dataframe\n",
        "df_=spark_aryan.createDataFrame(iris_data,schema=columns)"
      ],
      "metadata": {
        "id": "zT1eghQMupXG"
      },
      "execution_count": 5,
      "outputs": []
    },
    {
      "cell_type": "code",
      "source": [
        "df_.show()"
      ],
      "metadata": {
        "colab": {
          "base_uri": "https://localhost:8080/",
          "height": 0
        },
        "id": "WIQRxsK_vzvG",
        "outputId": "f8c22b68-d2bc-4c63-bbe4-b5d8f5c31609"
      },
      "execution_count": 6,
      "outputs": [
        {
          "output_type": "stream",
          "name": "stdout",
          "text": [
            "+------------+-----------+------------+-----------+---------------+\n",
            "|sepal_length|sepal_width|petal_length|petal_width|        species|\n",
            "+------------+-----------+------------+-----------+---------------+\n",
            "|         5.1|        3.5|         1.4|        0.2|    Iris-setosa|\n",
            "|         4.9|        3.0|         1.4|        0.2|    Iris-setosa|\n",
            "|         4.7|        3.2|         1.3|        0.2|    Iris-setosa|\n",
            "|         7.0|        3.2|         4.7|        1.4|Iris-versicolor|\n",
            "|         6.4|        3.2|         4.5|        1.5|Iris-versicolor|\n",
            "|         6.9|        3.1|         4.9|        1.5|Iris-versicolor|\n",
            "|         5.9|        3.0|         5.1|        1.8| Iris-virginica|\n",
            "|         6.8|        3.0|         5.5|        2.1| Iris-virginica|\n",
            "|         6.7|        3.1|         5.6|        2.4| Iris-virginica|\n",
            "+------------+-----------+------------+-----------+---------------+\n",
            "\n"
          ]
        }
      ]
    },
    {
      "cell_type": "code",
      "source": [
        "df_filtered_=df_.filter(col('species')=='Iris-setosa')\n",
        "df_filtered_.show()"
      ],
      "metadata": {
        "colab": {
          "base_uri": "https://localhost:8080/",
          "height": 0
        },
        "id": "ZUhZlCfbv0ge",
        "outputId": "c3779575-6d97-4dba-a0d3-365263c4c206"
      },
      "execution_count": 7,
      "outputs": [
        {
          "output_type": "stream",
          "name": "stdout",
          "text": [
            "+------------+-----------+------------+-----------+-----------+\n",
            "|sepal_length|sepal_width|petal_length|petal_width|    species|\n",
            "+------------+-----------+------------+-----------+-----------+\n",
            "|         5.1|        3.5|         1.4|        0.2|Iris-setosa|\n",
            "|         4.9|        3.0|         1.4|        0.2|Iris-setosa|\n",
            "|         4.7|        3.2|         1.3|        0.2|Iris-setosa|\n",
            "+------------+-----------+------------+-----------+-----------+\n",
            "\n"
          ]
        }
      ]
    },
    {
      "cell_type": "code",
      "source": [
        "spark_aryan.stop()"
      ],
      "metadata": {
        "id": "ggooOM0vwcCW"
      },
      "execution_count": 8,
      "outputs": []
    }
  ]
}